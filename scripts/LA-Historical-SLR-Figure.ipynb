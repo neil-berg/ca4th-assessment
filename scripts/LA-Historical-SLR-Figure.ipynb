{
 "cells": [
  {
   "cell_type": "code",
   "execution_count": 1,
   "metadata": {},
   "outputs": [
    {
     "name": "stdout",
     "output_type": "stream",
     "text": [
      "0.00324660887311 -2.64987345299 0.517331748553 2.72906905327e-78\n"
     ]
    },
    {
     "data": {
      "text/plain": [
       "<matplotlib.figure.Figure at 0x10c8ab400>"
      ]
     },
     "metadata": {},
     "output_type": "display_data"
    }
   ],
   "source": [
    "import os\n",
    "import sys\n",
    "import numpy as np\n",
    "import pandas as pd\n",
    "import matplotlib.pyplot as plt\n",
    "\n",
    "from scipy import stats\n",
    "\n",
    "src_dir = '/Users/nberg/Documents/CA4thAssessment/data/slr/'\n",
    "src_fl = src_dir+'9410660_meantrend.csv'\n",
    "df = pd.read_csv(src_fl, \n",
    "                 sep=',', \n",
    "                 index_col=False, \n",
    "                 skiprows=range(0,289), \n",
    "                 names=['Year', 'Month', 'MSL', 'Unverified', 'Linear_Trend', 'High_Conf', 'Low_Conf'])\n",
    "\n",
    "\n",
    "ntimes = len(df['MSL'])\n",
    "years = list(set(df['Year']))\n",
    "\n",
    "msl_in = df['MSL']*1000*(1./25.4)\n",
    "\n",
    "# Trend\n",
    "slope, intercept, r_value, p_value, std_err = stats.linregress(range(ntimes), msl_in)\n",
    "print(slope, intercept, r_value, p_value)\n",
    "\n",
    "trendline = [slope*x + intercept for x in range(0,ntimes)]\n",
    "\n",
    "fig = plt.figure(figsize=(8,4))\n",
    "ax = fig.add_subplot(111)\n",
    "ax.plot(range(ntimes), msl_in, color='grey')\n",
    "ax.plot(range(ntimes), trendline, 'r--', linewidth=4)\n",
    "#ax.plot(range(ntimes), df['Linear_Trend']*1000, 'r--', linewidth=4)\n",
    "ax.set_ylabel('Monthly mean sea level (inches)')\n",
    "ax.set_xticks(range(0,ntimes,24))\n",
    "ax.set_xticklabels([str(x) for x in years[::2]], rotation=90)\n",
    "for label in ax.xaxis.get_ticklabels()[::2]:\n",
    "    label.set_visible(False)\n",
    "ax.set_xlim(0,ntimes)\n",
    "ax.set_title('Relative Sea Level at NOAA Los Angeles Tide Gauge [ID:9410660]', fontsize=12)\n",
    "ax.text(25, 7, 'Trend = 0.39 in/decade', color='red', fontsize=12)\n",
    "plt.savefig('/Users/nberg/Documents/CA4thAssessment/figures/LA_relative_SLR.eps')\n",
    "plt.show()"
   ]
  },
  {
   "cell_type": "code",
   "execution_count": null,
   "metadata": {},
   "outputs": [],
   "source": []
  }
 ],
 "metadata": {
  "kernelspec": {
   "display_name": "Python 3",
   "language": "python",
   "name": "python3"
  },
  "language_info": {
   "codemirror_mode": {
    "name": "ipython",
    "version": 3
   },
   "file_extension": ".py",
   "mimetype": "text/x-python",
   "name": "python",
   "nbconvert_exporter": "python",
   "pygments_lexer": "ipython3",
   "version": "3.5.4"
  }
 },
 "nbformat": 4,
 "nbformat_minor": 2
}
